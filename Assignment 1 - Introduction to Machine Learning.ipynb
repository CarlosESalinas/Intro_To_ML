{
 "cells": [
  {
   "cell_type": "markdown",
   "metadata": {},
   "source": [
    "---\n",
    "\n",
    "_You are currently looking at **version 1.3** of this notebook. To download notebooks and datafiles, as well as get help on Jupyter notebooks in the Coursera platform, visit the [Jupyter Notebook FAQ](https://www.coursera.org/learn/python-machine-learning/resources/bANLa) course resource._\n",
    "\n",
    "---"
   ]
  },
  {
   "cell_type": "markdown",
   "metadata": {},
   "source": [
    "# Assignment 1 - Introduction to Machine Learning"
   ]
  },
  {
   "cell_type": "markdown",
   "metadata": {},
   "source": [
    "For this assignment, you will be using the Breast Cancer Wisconsin (Diagnostic) Database to create a classifier that can help diagnose patients. First, read through the description of the dataset (below)."
   ]
  },
  {
   "cell_type": "code",
   "execution_count": 15,
   "metadata": {
    "collapsed": false
   },
   "outputs": [
    {
     "name": "stdout",
     "output_type": "stream",
     "text": [
      "Breast Cancer Wisconsin (Diagnostic) Database\n",
      "=============================================\n",
      "\n",
      "Notes\n",
      "-----\n",
      "Data Set Characteristics:\n",
      "    :Number of Instances: 569\n",
      "\n",
      "    :Number of Attributes: 30 numeric, predictive attributes and the class\n",
      "\n",
      "    :Attribute Information:\n",
      "        - radius (mean of distances from center to points on the perimeter)\n",
      "        - texture (standard deviation of gray-scale values)\n",
      "        - perimeter\n",
      "        - area\n",
      "        - smoothness (local variation in radius lengths)\n",
      "        - compactness (perimeter^2 / area - 1.0)\n",
      "        - concavity (severity of concave portions of the contour)\n",
      "        - concave points (number of concave portions of the contour)\n",
      "        - symmetry \n",
      "        - fractal dimension (\"coastline approximation\" - 1)\n",
      "\n",
      "        The mean, standard error, and \"worst\" or largest (mean of the three\n",
      "        largest values) of these features were computed for each image,\n",
      "        resulting in 30 features.  For instance, field 3 is Mean Radius, field\n",
      "        13 is Radius SE, field 23 is Worst Radius.\n",
      "\n",
      "        - class:\n",
      "                - WDBC-Malignant\n",
      "                - WDBC-Benign\n",
      "\n",
      "    :Summary Statistics:\n",
      "\n",
      "    ===================================== ====== ======\n",
      "                                           Min    Max\n",
      "    ===================================== ====== ======\n",
      "    radius (mean):                        6.981  28.11\n",
      "    texture (mean):                       9.71   39.28\n",
      "    perimeter (mean):                     43.79  188.5\n",
      "    area (mean):                          143.5  2501.0\n",
      "    smoothness (mean):                    0.053  0.163\n",
      "    compactness (mean):                   0.019  0.345\n",
      "    concavity (mean):                     0.0    0.427\n",
      "    concave points (mean):                0.0    0.201\n",
      "    symmetry (mean):                      0.106  0.304\n",
      "    fractal dimension (mean):             0.05   0.097\n",
      "    radius (standard error):              0.112  2.873\n",
      "    texture (standard error):             0.36   4.885\n",
      "    perimeter (standard error):           0.757  21.98\n",
      "    area (standard error):                6.802  542.2\n",
      "    smoothness (standard error):          0.002  0.031\n",
      "    compactness (standard error):         0.002  0.135\n",
      "    concavity (standard error):           0.0    0.396\n",
      "    concave points (standard error):      0.0    0.053\n",
      "    symmetry (standard error):            0.008  0.079\n",
      "    fractal dimension (standard error):   0.001  0.03\n",
      "    radius (worst):                       7.93   36.04\n",
      "    texture (worst):                      12.02  49.54\n",
      "    perimeter (worst):                    50.41  251.2\n",
      "    area (worst):                         185.2  4254.0\n",
      "    smoothness (worst):                   0.071  0.223\n",
      "    compactness (worst):                  0.027  1.058\n",
      "    concavity (worst):                    0.0    1.252\n",
      "    concave points (worst):               0.0    0.291\n",
      "    symmetry (worst):                     0.156  0.664\n",
      "    fractal dimension (worst):            0.055  0.208\n",
      "    ===================================== ====== ======\n",
      "\n",
      "    :Missing Attribute Values: None\n",
      "\n",
      "    :Class Distribution: 212 - Malignant, 357 - Benign\n",
      "\n",
      "    :Creator:  Dr. William H. Wolberg, W. Nick Street, Olvi L. Mangasarian\n",
      "\n",
      "    :Donor: Nick Street\n",
      "\n",
      "    :Date: November, 1995\n",
      "\n",
      "This is a copy of UCI ML Breast Cancer Wisconsin (Diagnostic) datasets.\n",
      "https://goo.gl/U2Uwz2\n",
      "\n",
      "Features are computed from a digitized image of a fine needle\n",
      "aspirate (FNA) of a breast mass.  They describe\n",
      "characteristics of the cell nuclei present in the image.\n",
      "\n",
      "Separating plane described above was obtained using\n",
      "Multisurface Method-Tree (MSM-T) [K. P. Bennett, \"Decision Tree\n",
      "Construction Via Linear Programming.\" Proceedings of the 4th\n",
      "Midwest Artificial Intelligence and Cognitive Science Society,\n",
      "pp. 97-101, 1992], a classification method which uses linear\n",
      "programming to construct a decision tree.  Relevant features\n",
      "were selected using an exhaustive search in the space of 1-4\n",
      "features and 1-3 separating planes.\n",
      "\n",
      "The actual linear program used to obtain the separating plane\n",
      "in the 3-dimensional space is that described in:\n",
      "[K. P. Bennett and O. L. Mangasarian: \"Robust Linear\n",
      "Programming Discrimination of Two Linearly Inseparable Sets\",\n",
      "Optimization Methods and Software 1, 1992, 23-34].\n",
      "\n",
      "This database is also available through the UW CS ftp server:\n",
      "\n",
      "ftp ftp.cs.wisc.edu\n",
      "cd math-prog/cpo-dataset/machine-learn/WDBC/\n",
      "\n",
      "References\n",
      "----------\n",
      "   - W.N. Street, W.H. Wolberg and O.L. Mangasarian. Nuclear feature extraction \n",
      "     for breast tumor diagnosis. IS&T/SPIE 1993 International Symposium on \n",
      "     Electronic Imaging: Science and Technology, volume 1905, pages 861-870,\n",
      "     San Jose, CA, 1993.\n",
      "   - O.L. Mangasarian, W.N. Street and W.H. Wolberg. Breast cancer diagnosis and \n",
      "     prognosis via linear programming. Operations Research, 43(4), pages 570-577, \n",
      "     July-August 1995.\n",
      "   - W.H. Wolberg, W.N. Street, and O.L. Mangasarian. Machine learning techniques\n",
      "     to diagnose breast cancer from fine-needle aspirates. Cancer Letters 77 (1994) \n",
      "     163-171.\n",
      "\n"
     ]
    }
   ],
   "source": [
    "import numpy as np\n",
    "import pandas as pd\n",
    "from sklearn.datasets import load_breast_cancer\n",
    "\n",
    "cancer = load_breast_cancer()\n",
    "print(cancer.DESCR) # Print the data set description"
   ]
  },
  {
   "cell_type": "markdown",
   "metadata": {},
   "source": [
    "The object returned by `load_breast_cancer()` is a scikit-learn Bunch object, which is similar to a dictionary."
   ]
  },
  {
   "cell_type": "code",
   "execution_count": 8,
   "metadata": {
    "collapsed": false
   },
   "outputs": [
    {
     "data": {
      "text/plain": [
       "dict_keys(['data', 'target', 'target_names', 'DESCR', 'feature_names'])"
      ]
     },
     "execution_count": 8,
     "metadata": {},
     "output_type": "execute_result"
    }
   ],
   "source": [
    "cancer.keys()"
   ]
  },
  {
   "cell_type": "markdown",
   "metadata": {},
   "source": [
    "### Question 0 (Example)\n",
    "\n",
    "How many features does the breast cancer dataset have?\n",
    "\n",
    "*This function should return an integer.*"
   ]
  },
  {
   "cell_type": "code",
   "execution_count": 10,
   "metadata": {
    "collapsed": false
   },
   "outputs": [
    {
     "data": {
      "text/plain": [
       "30"
      ]
     },
     "execution_count": 10,
     "metadata": {},
     "output_type": "execute_result"
    }
   ],
   "source": [
    "# You should write your whole answer within the function provided. The autograder will call\n",
    "# this function and compare the return value against the correct solution value\n",
    "def answer_zero():\n",
    "    # This function returns the number of features of the breast cancer dataset, which is an integer. \n",
    "    # The assignment question description will tell you the general format the autograder is expecting\n",
    "    return len(cancer['feature_names'])\n",
    "\n",
    "# You can examine what your function returns by calling it in the cell. If you have questions\n",
    "# about the assignment formats, check out the discussion forums for any FAQs\n",
    "answer_zero() "
   ]
  },
  {
   "cell_type": "markdown",
   "metadata": {},
   "source": [
    "### Question 1\n",
    "\n",
    "Scikit-learn works with lists, numpy arrays, scipy-sparse matrices, and pandas DataFrames, so converting the dataset to a DataFrame is not necessary for training this model. Using a DataFrame does however help make many things easier such as munging data, so let's practice creating a classifier with a pandas DataFrame. \n",
    "\n",
    "\n",
    "\n",
    "Convert the sklearn.dataset `cancer` to a DataFrame. \n",
    "\n",
    "*This function should return a `(569, 31)` DataFrame with * \n",
    "\n",
    "*columns = *\n",
    "\n",
    "    ['mean radius', 'mean texture', 'mean perimeter', 'mean area',\n",
    "    'mean smoothness', 'mean compactness', 'mean concavity',\n",
    "    'mean concave points', 'mean symmetry', 'mean fractal dimension',\n",
    "    'radius error', 'texture error', 'perimeter error', 'area error',\n",
    "    'smoothness error', 'compactness error', 'concavity error',\n",
    "    'concave points error', 'symmetry error', 'fractal dimension error',\n",
    "    'worst radius', 'worst texture', 'worst perimeter', 'worst area',\n",
    "    'worst smoothness', 'worst compactness', 'worst concavity',\n",
    "    'worst concave points', 'worst symmetry', 'worst fractal dimension',\n",
    "    'target']\n",
    "\n",
    "*and index = *\n",
    "\n",
    "    RangeIndex(start=0, stop=569, step=1)"
   ]
  },
  {
   "cell_type": "code",
   "execution_count": 52,
   "metadata": {
    "collapsed": false
   },
   "outputs": [
    {
     "data": {
      "text/html": [
       "<div>\n",
       "<table border=\"1\" class=\"dataframe\">\n",
       "  <thead>\n",
       "    <tr style=\"text-align: right;\">\n",
       "      <th></th>\n",
       "      <th>mean radius</th>\n",
       "      <th>mean texture</th>\n",
       "      <th>mean perimeter</th>\n",
       "      <th>mean area</th>\n",
       "      <th>mean smoothness</th>\n",
       "      <th>mean compactness</th>\n",
       "      <th>mean concavity</th>\n",
       "      <th>mean concave points</th>\n",
       "      <th>mean symmetry</th>\n",
       "      <th>mean fractal dimension</th>\n",
       "      <th>...</th>\n",
       "      <th>worst texture</th>\n",
       "      <th>worst perimeter</th>\n",
       "      <th>worst area</th>\n",
       "      <th>worst smoothness</th>\n",
       "      <th>worst compactness</th>\n",
       "      <th>worst concavity</th>\n",
       "      <th>worst concave points</th>\n",
       "      <th>worst symmetry</th>\n",
       "      <th>worst fractal dimension</th>\n",
       "      <th>target</th>\n",
       "    </tr>\n",
       "  </thead>\n",
       "  <tbody>\n",
       "    <tr>\n",
       "      <th>0</th>\n",
       "      <td>17.99</td>\n",
       "      <td>10.38</td>\n",
       "      <td>122.80</td>\n",
       "      <td>1001.0</td>\n",
       "      <td>0.11840</td>\n",
       "      <td>0.27760</td>\n",
       "      <td>0.3001</td>\n",
       "      <td>0.14710</td>\n",
       "      <td>0.2419</td>\n",
       "      <td>0.07871</td>\n",
       "      <td>...</td>\n",
       "      <td>17.33</td>\n",
       "      <td>184.60</td>\n",
       "      <td>2019.0</td>\n",
       "      <td>0.1622</td>\n",
       "      <td>0.6656</td>\n",
       "      <td>0.7119</td>\n",
       "      <td>0.2654</td>\n",
       "      <td>0.4601</td>\n",
       "      <td>0.11890</td>\n",
       "      <td>0.0</td>\n",
       "    </tr>\n",
       "    <tr>\n",
       "      <th>1</th>\n",
       "      <td>20.57</td>\n",
       "      <td>17.77</td>\n",
       "      <td>132.90</td>\n",
       "      <td>1326.0</td>\n",
       "      <td>0.08474</td>\n",
       "      <td>0.07864</td>\n",
       "      <td>0.0869</td>\n",
       "      <td>0.07017</td>\n",
       "      <td>0.1812</td>\n",
       "      <td>0.05667</td>\n",
       "      <td>...</td>\n",
       "      <td>23.41</td>\n",
       "      <td>158.80</td>\n",
       "      <td>1956.0</td>\n",
       "      <td>0.1238</td>\n",
       "      <td>0.1866</td>\n",
       "      <td>0.2416</td>\n",
       "      <td>0.1860</td>\n",
       "      <td>0.2750</td>\n",
       "      <td>0.08902</td>\n",
       "      <td>0.0</td>\n",
       "    </tr>\n",
       "    <tr>\n",
       "      <th>2</th>\n",
       "      <td>19.69</td>\n",
       "      <td>21.25</td>\n",
       "      <td>130.00</td>\n",
       "      <td>1203.0</td>\n",
       "      <td>0.10960</td>\n",
       "      <td>0.15990</td>\n",
       "      <td>0.1974</td>\n",
       "      <td>0.12790</td>\n",
       "      <td>0.2069</td>\n",
       "      <td>0.05999</td>\n",
       "      <td>...</td>\n",
       "      <td>25.53</td>\n",
       "      <td>152.50</td>\n",
       "      <td>1709.0</td>\n",
       "      <td>0.1444</td>\n",
       "      <td>0.4245</td>\n",
       "      <td>0.4504</td>\n",
       "      <td>0.2430</td>\n",
       "      <td>0.3613</td>\n",
       "      <td>0.08758</td>\n",
       "      <td>0.0</td>\n",
       "    </tr>\n",
       "    <tr>\n",
       "      <th>3</th>\n",
       "      <td>11.42</td>\n",
       "      <td>20.38</td>\n",
       "      <td>77.58</td>\n",
       "      <td>386.1</td>\n",
       "      <td>0.14250</td>\n",
       "      <td>0.28390</td>\n",
       "      <td>0.2414</td>\n",
       "      <td>0.10520</td>\n",
       "      <td>0.2597</td>\n",
       "      <td>0.09744</td>\n",
       "      <td>...</td>\n",
       "      <td>26.50</td>\n",
       "      <td>98.87</td>\n",
       "      <td>567.7</td>\n",
       "      <td>0.2098</td>\n",
       "      <td>0.8663</td>\n",
       "      <td>0.6869</td>\n",
       "      <td>0.2575</td>\n",
       "      <td>0.6638</td>\n",
       "      <td>0.17300</td>\n",
       "      <td>0.0</td>\n",
       "    </tr>\n",
       "    <tr>\n",
       "      <th>4</th>\n",
       "      <td>20.29</td>\n",
       "      <td>14.34</td>\n",
       "      <td>135.10</td>\n",
       "      <td>1297.0</td>\n",
       "      <td>0.10030</td>\n",
       "      <td>0.13280</td>\n",
       "      <td>0.1980</td>\n",
       "      <td>0.10430</td>\n",
       "      <td>0.1809</td>\n",
       "      <td>0.05883</td>\n",
       "      <td>...</td>\n",
       "      <td>16.67</td>\n",
       "      <td>152.20</td>\n",
       "      <td>1575.0</td>\n",
       "      <td>0.1374</td>\n",
       "      <td>0.2050</td>\n",
       "      <td>0.4000</td>\n",
       "      <td>0.1625</td>\n",
       "      <td>0.2364</td>\n",
       "      <td>0.07678</td>\n",
       "      <td>0.0</td>\n",
       "    </tr>\n",
       "  </tbody>\n",
       "</table>\n",
       "<p>5 rows × 31 columns</p>\n",
       "</div>"
      ],
      "text/plain": [
       "   mean radius  mean texture  mean perimeter  mean area  mean smoothness  \\\n",
       "0        17.99         10.38          122.80     1001.0          0.11840   \n",
       "1        20.57         17.77          132.90     1326.0          0.08474   \n",
       "2        19.69         21.25          130.00     1203.0          0.10960   \n",
       "3        11.42         20.38           77.58      386.1          0.14250   \n",
       "4        20.29         14.34          135.10     1297.0          0.10030   \n",
       "\n",
       "   mean compactness  mean concavity  mean concave points  mean symmetry  \\\n",
       "0           0.27760          0.3001              0.14710         0.2419   \n",
       "1           0.07864          0.0869              0.07017         0.1812   \n",
       "2           0.15990          0.1974              0.12790         0.2069   \n",
       "3           0.28390          0.2414              0.10520         0.2597   \n",
       "4           0.13280          0.1980              0.10430         0.1809   \n",
       "\n",
       "   mean fractal dimension   ...    worst texture  worst perimeter  worst area  \\\n",
       "0                 0.07871   ...            17.33           184.60      2019.0   \n",
       "1                 0.05667   ...            23.41           158.80      1956.0   \n",
       "2                 0.05999   ...            25.53           152.50      1709.0   \n",
       "3                 0.09744   ...            26.50            98.87       567.7   \n",
       "4                 0.05883   ...            16.67           152.20      1575.0   \n",
       "\n",
       "   worst smoothness  worst compactness  worst concavity  worst concave points  \\\n",
       "0            0.1622             0.6656           0.7119                0.2654   \n",
       "1            0.1238             0.1866           0.2416                0.1860   \n",
       "2            0.1444             0.4245           0.4504                0.2430   \n",
       "3            0.2098             0.8663           0.6869                0.2575   \n",
       "4            0.1374             0.2050           0.4000                0.1625   \n",
       "\n",
       "   worst symmetry  worst fractal dimension  target  \n",
       "0          0.4601                  0.11890     0.0  \n",
       "1          0.2750                  0.08902     0.0  \n",
       "2          0.3613                  0.08758     0.0  \n",
       "3          0.6638                  0.17300     0.0  \n",
       "4          0.2364                  0.07678     0.0  \n",
       "\n",
       "[5 rows x 31 columns]"
      ]
     },
     "execution_count": 52,
     "metadata": {},
     "output_type": "execute_result"
    }
   ],
   "source": [
    "def answer_one():\n",
    "    \n",
    "    # Your code here\n",
    "    df = np.c_[cancer.data, cancer.target]\n",
    "    columns = np.append(cancer.feature_names, [\"target\"])\n",
    "    return pd.DataFrame(df, columns = columns)\n",
    "\n",
    "## Prints the first five rows\n",
    "answer_one().head()"
   ]
  },
  {
   "cell_type": "code",
   "execution_count": 18,
   "metadata": {
    "collapsed": false
   },
   "outputs": [
    {
     "name": "stdout",
     "output_type": "stream",
     "text": [
      "(569, 31)\n"
     ]
    }
   ],
   "source": [
    "# Checking results\n",
    "df = answer_one()\n",
    "print(df.shape)"
   ]
  },
  {
   "cell_type": "markdown",
   "metadata": {},
   "source": [
    "### Question 2\n",
    "What is the class distribution? (i.e. how many instances of `malignant` (encoded 0) and how many `benign` (encoded 1)?)\n",
    "\n",
    "*This function should return a Series named `target` of length 2 with integer values and index =* `['malignant', 'benign']`"
   ]
  },
  {
   "cell_type": "code",
   "execution_count": 19,
   "metadata": {
    "collapsed": false
   },
   "outputs": [
    {
     "data": {
      "text/plain": [
       "malignant    357\n",
       "benign       212\n",
       "Name: target, dtype: int64"
      ]
     },
     "execution_count": 19,
     "metadata": {},
     "output_type": "execute_result"
    }
   ],
   "source": [
    "def answer_two():\n",
    "    cancerdf = answer_one()\n",
    "    # Your code here\n",
    "    counts = cancerdf.target.value_counts(ascending = False)\n",
    "    counts.index = 'malignant benign'.split()    \n",
    "    # Return your answer\n",
    "    return counts\n",
    "\n",
    "\n",
    "answer_two()"
   ]
  },
  {
   "cell_type": "markdown",
   "metadata": {},
   "source": [
    "### Question 3\n",
    "Split the DataFrame into `X` (the data) and `y` (the labels).\n",
    "\n",
    "*This function should return a tuple of length 2:* `(X, y)`*, where* \n",
    "* `X`*, a pandas DataFrame, has shape* `(569, 30)`\n",
    "* `y`*, a pandas Series, has shape* `(569,)`."
   ]
  },
  {
   "cell_type": "code",
   "execution_count": 27,
   "metadata": {
    "collapsed": true
   },
   "outputs": [],
   "source": [
    "def answer_three():\n",
    "    cancerdf = answer_one()\n",
    "    \n",
    "    # Your code here\n",
    "    X = cancerdf[cancerdf.columns[:-1]]\n",
    "    y = cancerdf.target\n",
    "    \n",
    "    return X, y"
   ]
  },
  {
   "cell_type": "code",
   "execution_count": 34,
   "metadata": {
    "collapsed": false
   },
   "outputs": [
    {
     "name": "stdout",
     "output_type": "stream",
     "text": [
      "'X' has shape:  (569, 30) 'y' has shape:  (569,)\n"
     ]
    }
   ],
   "source": [
    "# Checking results\n",
    "X, y = answer_three()\n",
    "print(\"'X' has shape: \", X.shape, \"'y' has shape: \", y.shape)"
   ]
  },
  {
   "cell_type": "markdown",
   "metadata": {},
   "source": [
    "### Question 4\n",
    "Using `train_test_split`, split `X` and `y` into training and test sets `(X_train, X_test, y_train, and y_test)`.\n",
    "\n",
    "**Set the random number generator state to 0 using `random_state=0` to make sure your results match the autograder!**\n",
    "\n",
    "*This function should return a tuple of length 4:* `(X_train, X_test, y_train, y_test)`*, where* \n",
    "* `X_train` *has shape* `(426, 30)`\n",
    "* `X_test` *has shape* `(143, 30)`\n",
    "* `y_train` *has shape* `(426,)`\n",
    "* `y_test` *has shape* `(143,)`"
   ]
  },
  {
   "cell_type": "code",
   "execution_count": 35,
   "metadata": {
    "collapsed": true
   },
   "outputs": [],
   "source": [
    "from sklearn.model_selection import train_test_split\n",
    "\n",
    "def answer_four():\n",
    "    X, y = answer_three()\n",
    "    \n",
    "    # Your code here    \n",
    "    return train_test_split(X, y, train_size=426, test_size=143, random_state=0)"
   ]
  },
  {
   "cell_type": "code",
   "execution_count": 36,
   "metadata": {
    "collapsed": true
   },
   "outputs": [],
   "source": [
    "X_train, X_test, y_train, y_test = answer_four()"
   ]
  },
  {
   "cell_type": "code",
   "execution_count": 40,
   "metadata": {
    "collapsed": false
   },
   "outputs": [
    {
     "name": "stdout",
     "output_type": "stream",
     "text": [
      " X_train has shape: (426, 30) \n",
      " x_test has shape: (143, 30) \n",
      " y_train has shape: (426,) \n",
      " y_test has shape: (143,) \n"
     ]
    }
   ],
   "source": [
    "# Checking results\n",
    "print(\" X_train has shape: {} \\n x_test has shape: {} \\n y_train has shape: {} \\n y_test has shape: {} \".format(X_train.shape, X_test.shape, y_train.shape, y_test.shape))"
   ]
  },
  {
   "cell_type": "markdown",
   "metadata": {},
   "source": [
    "### Question 5\n",
    "Using KNeighborsClassifier, fit a k-nearest neighbors (knn) classifier with `X_train`, `y_train` and using one nearest neighbor (`n_neighbors = 1`).\n",
    "\n",
    "*This function should return a * `sklearn.neighbors.classification.KNeighborsClassifier`."
   ]
  },
  {
   "cell_type": "code",
   "execution_count": 42,
   "metadata": {
    "collapsed": true
   },
   "outputs": [],
   "source": [
    "from sklearn.neighbors import KNeighborsClassifier\n",
    "\n",
    "def answer_five():\n",
    "    X_train, X_test, y_train, y_test = answer_four()\n",
    "    \n",
    "    # Your code here\n",
    "    knn = KNeighborsClassifier(n_neighbors = 1)\n",
    "    knn.fit(X_train, y_train)\n",
    "    # Return your answer\n",
    "    return knn"
   ]
  },
  {
   "cell_type": "code",
   "execution_count": 51,
   "metadata": {
    "collapsed": false
   },
   "outputs": [
    {
     "name": "stdout",
     "output_type": "stream",
     "text": [
      "The type of knn: <class 'sklearn.neighbors.classification.KNeighborsClassifier'>\n",
      "True\n"
     ]
    }
   ],
   "source": [
    "# Checking results \n",
    "knn = answer_five()\n",
    "print(\"The type of knn: {}\".format(type(knn)))\n",
    "print(knn.n_neighbors == 1)"
   ]
  },
  {
   "cell_type": "markdown",
   "metadata": {},
   "source": [
    "### Question 6\n",
    "Using your knn classifier, predict the class label using the mean value for each feature.\n",
    "\n",
    "Hint: You can use `cancerdf.mean()[:-1].values.reshape(1, -1)` which gets the mean value for each feature, ignores the target column, and reshapes the data from 1 dimension to 2 (necessary for the precict method of KNeighborsClassifier).\n",
    "\n",
    "*This function should return a numpy array either `array([ 0.])` or `array([ 1.])`*"
   ]
  },
  {
   "cell_type": "code",
   "execution_count": 55,
   "metadata": {
    "collapsed": false
   },
   "outputs": [
    {
     "data": {
      "text/plain": [
       "array([ 1.])"
      ]
     },
     "execution_count": 55,
     "metadata": {},
     "output_type": "execute_result"
    }
   ],
   "source": [
    "def answer_six():\n",
    "    cancerdf = answer_one()\n",
    "    means = cancerdf.mean()[:-1].values.reshape(1, -1)\n",
    "    \n",
    "    # Your code here\n",
    "    model = answer_five()\n",
    "    \n",
    "    # Return your answer\n",
    "    return model.predict(means)\n",
    "\n",
    "answer_six()"
   ]
  },
  {
   "cell_type": "markdown",
   "metadata": {},
   "source": [
    "### Question 7\n",
    "Using your knn classifier, predict the class labels for the test set `X_test`.\n",
    "\n",
    "*This function should return a numpy array with shape `(143,)` and values either `0.0` or `1.0`.*"
   ]
  },
  {
   "cell_type": "code",
   "execution_count": 58,
   "metadata": {
    "collapsed": false
   },
   "outputs": [
    {
     "data": {
      "text/plain": [
       "(143,)"
      ]
     },
     "execution_count": 58,
     "metadata": {},
     "output_type": "execute_result"
    }
   ],
   "source": [
    "def answer_seven():\n",
    "    # Your code here\n",
    "    X_train, X_test, y_train, y_test = answer_four()\n",
    "    knn = answer_five()\n",
    "    \n",
    "    # Return your answer\n",
    "    return knn.predict(X_test)\n",
    "\n",
    "# Checking results \n",
    "answer_seven().shape"
   ]
  },
  {
   "cell_type": "code",
   "execution_count": 59,
   "metadata": {
    "collapsed": false
   },
   "outputs": [
    {
     "name": "stdout",
     "output_type": "stream",
     "text": [
      "{0.0, 1.0}\n"
     ]
    }
   ],
   "source": [
    "# Checking results \n",
    "predictions = answer_seven()\n",
    "print(set(predictions))"
   ]
  },
  {
   "cell_type": "markdown",
   "metadata": {},
   "source": [
    "### Question 8\n",
    "Find the score (mean accuracy) of your knn classifier using `X_test` and `y_test`.\n",
    "\n",
    "*This function should return a float between 0 and 1*"
   ]
  },
  {
   "cell_type": "code",
   "execution_count": 60,
   "metadata": {
    "collapsed": false
   },
   "outputs": [
    {
     "data": {
      "text/plain": [
       "0.91608391608391604"
      ]
     },
     "execution_count": 60,
     "metadata": {},
     "output_type": "execute_result"
    }
   ],
   "source": [
    "def answer_eight():\n",
    "    # Your code here\n",
    "    X_train, X_test, y_train, y_test = answer_four()\n",
    "    knn = answer_five()\n",
    "    \n",
    "    # Return your answer\n",
    "    return knn.score(X_test,y_test) \n",
    "\n",
    "# Checking results \n",
    "answer_eight()"
   ]
  },
  {
   "cell_type": "markdown",
   "metadata": {},
   "source": [
    "### Optional plot\n",
    "\n",
    "Try using the plotting function below to visualize the differet predicition scores between training and test sets, as well as malignant and benign cells."
   ]
  },
  {
   "cell_type": "code",
   "execution_count": 61,
   "metadata": {
    "collapsed": true
   },
   "outputs": [],
   "source": [
    "%matplotlib inline\n",
    "def accuracy_plot():\n",
    "    import matplotlib.pyplot as plt\n",
    "\n",
    "    %matplotlib notebook\n",
    "\n",
    "    X_train, X_test, y_train, y_test = answer_four()\n",
    "\n",
    "    # Find the training and testing accuracies by target value (i.e. malignant, benign)\n",
    "    mal_train_X = X_train[y_train==0]\n",
    "    mal_train_y = y_train[y_train==0]\n",
    "    ben_train_X = X_train[y_train==1]\n",
    "    ben_train_y = y_train[y_train==1]\n",
    "\n",
    "    mal_test_X = X_test[y_test==0]\n",
    "    mal_test_y = y_test[y_test==0]\n",
    "    ben_test_X = X_test[y_test==1]\n",
    "    ben_test_y = y_test[y_test==1]\n",
    "\n",
    "    knn = answer_five()\n",
    "\n",
    "    scores = [knn.score(mal_train_X, mal_train_y), knn.score(ben_train_X, ben_train_y), \n",
    "              knn.score(mal_test_X, mal_test_y), knn.score(ben_test_X, ben_test_y)]\n",
    "\n",
    "\n",
    "    plt.figure()\n",
    "\n",
    "    # Plot the scores as a bar chart\n",
    "    bars = plt.bar(np.arange(4), scores, color=['#4c72b0','#4c72b0','#55a868','#55a868'])\n",
    "\n",
    "    # directly label the score onto the bars\n",
    "    for bar in bars:\n",
    "        height = bar.get_height()\n",
    "        plt.gca().text(bar.get_x() + bar.get_width()/2, height*.90, '{0:.{1}f}'.format(height, 2), \n",
    "                     ha='center', color='w', fontsize=11)\n",
    "\n",
    "    # remove all the ticks (both axes), and tick labels on the Y axis\n",
    "    plt.tick_params(top='off', bottom='off', left='off', right='off', labelleft='off', labelbottom='on')\n",
    "\n",
    "    # remove the frame of the chart\n",
    "    for spine in plt.gca().spines.values():\n",
    "        spine.set_visible(False)\n",
    "\n",
    "    plt.xticks([0,1,2,3], ['Malignant\\nTraining', 'Benign\\nTraining', 'Malignant\\nTest', 'Benign\\nTest'], alpha=0.8);\n",
    "    plt.title('Training and Test Accuracies for Malignant and Benign Cells', alpha=0.8)"
   ]
  },
  {
   "cell_type": "markdown",
   "metadata": {},
   "source": [
    "Uncomment the plotting function to see the visualization.\n",
    "\n",
    "**Comment out** the plotting function when submitting your notebook for grading. "
   ]
  },
  {
   "cell_type": "code",
   "execution_count": 62,
   "metadata": {
    "collapsed": false
   },
   "outputs": [
    {
     "data": {
      "application/javascript": "/* Put everything inside the global mpl namespace */\nwindow.mpl = {};\n\n\nmpl.get_websocket_type = function() {\n    if (typeof(WebSocket) !== 'undefined') {\n        return WebSocket;\n    } else if (typeof(MozWebSocket) !== 'undefined') {\n        return MozWebSocket;\n    } else {\n        alert('Your browser does not have WebSocket support.' +\n              'Please try Chrome, Safari or Firefox ≥ 6. ' +\n              'Firefox 4 and 5 are also supported but you ' +\n              'have to enable WebSockets in about:config.');\n    };\n}\n\nmpl.figure = function(figure_id, websocket, ondownload, parent_element) {\n    this.id = figure_id;\n\n    this.ws = websocket;\n\n    this.supports_binary = (this.ws.binaryType != undefined);\n\n    if (!this.supports_binary) {\n        var warnings = document.getElementById(\"mpl-warnings\");\n        if (warnings) {\n            warnings.style.display = 'block';\n            warnings.textContent = (\n                \"This browser does not support binary websocket messages. \" +\n                    \"Performance may be slow.\");\n        }\n    }\n\n    this.imageObj = new Image();\n\n    this.context = undefined;\n    this.message = undefined;\n    this.canvas = undefined;\n    this.rubberband_canvas = undefined;\n    this.rubberband_context = undefined;\n    this.format_dropdown = undefined;\n\n    this.image_mode = 'full';\n\n    this.root = $('<div/>');\n    this._root_extra_style(this.root)\n    this.root.attr('style', 'display: inline-block');\n\n    $(parent_element).append(this.root);\n\n    this._init_header(this);\n    this._init_canvas(this);\n    this._init_toolbar(this);\n\n    var fig = this;\n\n    this.waiting = false;\n\n    this.ws.onopen =  function () {\n            fig.send_message(\"supports_binary\", {value: fig.supports_binary});\n            fig.send_message(\"send_image_mode\", {});\n            if (mpl.ratio != 1) {\n                fig.send_message(\"set_dpi_ratio\", {'dpi_ratio': mpl.ratio});\n            }\n            fig.send_message(\"refresh\", {});\n        }\n\n    this.imageObj.onload = function() {\n            if (fig.image_mode == 'full') {\n                // Full images could contain transparency (where diff images\n                // almost always do), so we need to clear the canvas so that\n                // there is no ghosting.\n                fig.context.clearRect(0, 0, fig.canvas.width, fig.canvas.height);\n            }\n            fig.context.drawImage(fig.imageObj, 0, 0);\n        };\n\n    this.imageObj.onunload = function() {\n        this.ws.close();\n    }\n\n    this.ws.onmessage = this._make_on_message_function(this);\n\n    this.ondownload = ondownload;\n}\n\nmpl.figure.prototype._init_header = function() {\n    var titlebar = $(\n        '<div class=\"ui-dialog-titlebar ui-widget-header ui-corner-all ' +\n        'ui-helper-clearfix\"/>');\n    var titletext = $(\n        '<div class=\"ui-dialog-title\" style=\"width: 100%; ' +\n        'text-align: center; padding: 3px;\"/>');\n    titlebar.append(titletext)\n    this.root.append(titlebar);\n    this.header = titletext[0];\n}\n\n\n\nmpl.figure.prototype._canvas_extra_style = function(canvas_div) {\n\n}\n\n\nmpl.figure.prototype._root_extra_style = function(canvas_div) {\n\n}\n\nmpl.figure.prototype._init_canvas = function() {\n    var fig = this;\n\n    var canvas_div = $('<div/>');\n\n    canvas_div.attr('style', 'position: relative; clear: both; outline: 0');\n\n    function canvas_keyboard_event(event) {\n        return fig.key_event(event, event['data']);\n    }\n\n    canvas_div.keydown('key_press', canvas_keyboard_event);\n    canvas_div.keyup('key_release', canvas_keyboard_event);\n    this.canvas_div = canvas_div\n    this._canvas_extra_style(canvas_div)\n    this.root.append(canvas_div);\n\n    var canvas = $('<canvas/>');\n    canvas.addClass('mpl-canvas');\n    canvas.attr('style', \"left: 0; top: 0; z-index: 0; outline: 0\")\n\n    this.canvas = canvas[0];\n    this.context = canvas[0].getContext(\"2d\");\n\n    var backingStore = this.context.backingStorePixelRatio ||\n\tthis.context.webkitBackingStorePixelRatio ||\n\tthis.context.mozBackingStorePixelRatio ||\n\tthis.context.msBackingStorePixelRatio ||\n\tthis.context.oBackingStorePixelRatio ||\n\tthis.context.backingStorePixelRatio || 1;\n\n    mpl.ratio = (window.devicePixelRatio || 1) / backingStore;\n\n    var rubberband = $('<canvas/>');\n    rubberband.attr('style', \"position: absolute; left: 0; top: 0; z-index: 1;\")\n\n    var pass_mouse_events = true;\n\n    canvas_div.resizable({\n        start: function(event, ui) {\n            pass_mouse_events = false;\n        },\n        resize: function(event, ui) {\n            fig.request_resize(ui.size.width, ui.size.height);\n        },\n        stop: function(event, ui) {\n            pass_mouse_events = true;\n            fig.request_resize(ui.size.width, ui.size.height);\n        },\n    });\n\n    function mouse_event_fn(event) {\n        if (pass_mouse_events)\n            return fig.mouse_event(event, event['data']);\n    }\n\n    rubberband.mousedown('button_press', mouse_event_fn);\n    rubberband.mouseup('button_release', mouse_event_fn);\n    // Throttle sequential mouse events to 1 every 20ms.\n    rubberband.mousemove('motion_notify', mouse_event_fn);\n\n    rubberband.mouseenter('figure_enter', mouse_event_fn);\n    rubberband.mouseleave('figure_leave', mouse_event_fn);\n\n    canvas_div.on(\"wheel\", function (event) {\n        event = event.originalEvent;\n        event['data'] = 'scroll'\n        if (event.deltaY < 0) {\n            event.step = 1;\n        } else {\n            event.step = -1;\n        }\n        mouse_event_fn(event);\n    });\n\n    canvas_div.append(canvas);\n    canvas_div.append(rubberband);\n\n    this.rubberband = rubberband;\n    this.rubberband_canvas = rubberband[0];\n    this.rubberband_context = rubberband[0].getContext(\"2d\");\n    this.rubberband_context.strokeStyle = \"#000000\";\n\n    this._resize_canvas = function(width, height) {\n        // Keep the size of the canvas, canvas container, and rubber band\n        // canvas in synch.\n        canvas_div.css('width', width)\n        canvas_div.css('height', height)\n\n        canvas.attr('width', width * mpl.ratio);\n        canvas.attr('height', height * mpl.ratio);\n        canvas.attr('style', 'width: ' + width + 'px; height: ' + height + 'px;');\n\n        rubberband.attr('width', width);\n        rubberband.attr('height', height);\n    }\n\n    // Set the figure to an initial 600x600px, this will subsequently be updated\n    // upon first draw.\n    this._resize_canvas(600, 600);\n\n    // Disable right mouse context menu.\n    $(this.rubberband_canvas).bind(\"contextmenu\",function(e){\n        return false;\n    });\n\n    function set_focus () {\n        canvas.focus();\n        canvas_div.focus();\n    }\n\n    window.setTimeout(set_focus, 100);\n}\n\nmpl.figure.prototype._init_toolbar = function() {\n    var fig = this;\n\n    var nav_element = $('<div/>')\n    nav_element.attr('style', 'width: 100%');\n    this.root.append(nav_element);\n\n    // Define a callback function for later on.\n    function toolbar_event(event) {\n        return fig.toolbar_button_onclick(event['data']);\n    }\n    function toolbar_mouse_event(event) {\n        return fig.toolbar_button_onmouseover(event['data']);\n    }\n\n    for(var toolbar_ind in mpl.toolbar_items) {\n        var name = mpl.toolbar_items[toolbar_ind][0];\n        var tooltip = mpl.toolbar_items[toolbar_ind][1];\n        var image = mpl.toolbar_items[toolbar_ind][2];\n        var method_name = mpl.toolbar_items[toolbar_ind][3];\n\n        if (!name) {\n            // put a spacer in here.\n            continue;\n        }\n        var button = $('<button/>');\n        button.addClass('ui-button ui-widget ui-state-default ui-corner-all ' +\n                        'ui-button-icon-only');\n        button.attr('role', 'button');\n        button.attr('aria-disabled', 'false');\n        button.click(method_name, toolbar_event);\n        button.mouseover(tooltip, toolbar_mouse_event);\n\n        var icon_img = $('<span/>');\n        icon_img.addClass('ui-button-icon-primary ui-icon');\n        icon_img.addClass(image);\n        icon_img.addClass('ui-corner-all');\n\n        var tooltip_span = $('<span/>');\n        tooltip_span.addClass('ui-button-text');\n        tooltip_span.html(tooltip);\n\n        button.append(icon_img);\n        button.append(tooltip_span);\n\n        nav_element.append(button);\n    }\n\n    var fmt_picker_span = $('<span/>');\n\n    var fmt_picker = $('<select/>');\n    fmt_picker.addClass('mpl-toolbar-option ui-widget ui-widget-content');\n    fmt_picker_span.append(fmt_picker);\n    nav_element.append(fmt_picker_span);\n    this.format_dropdown = fmt_picker[0];\n\n    for (var ind in mpl.extensions) {\n        var fmt = mpl.extensions[ind];\n        var option = $(\n            '<option/>', {selected: fmt === mpl.default_extension}).html(fmt);\n        fmt_picker.append(option)\n    }\n\n    // Add hover states to the ui-buttons\n    $( \".ui-button\" ).hover(\n        function() { $(this).addClass(\"ui-state-hover\");},\n        function() { $(this).removeClass(\"ui-state-hover\");}\n    );\n\n    var status_bar = $('<span class=\"mpl-message\"/>');\n    nav_element.append(status_bar);\n    this.message = status_bar[0];\n}\n\nmpl.figure.prototype.request_resize = function(x_pixels, y_pixels) {\n    // Request matplotlib to resize the figure. Matplotlib will then trigger a resize in the client,\n    // which will in turn request a refresh of the image.\n    this.send_message('resize', {'width': x_pixels, 'height': y_pixels});\n}\n\nmpl.figure.prototype.send_message = function(type, properties) {\n    properties['type'] = type;\n    properties['figure_id'] = this.id;\n    this.ws.send(JSON.stringify(properties));\n}\n\nmpl.figure.prototype.send_draw_message = function() {\n    if (!this.waiting) {\n        this.waiting = true;\n        this.ws.send(JSON.stringify({type: \"draw\", figure_id: this.id}));\n    }\n}\n\n\nmpl.figure.prototype.handle_save = function(fig, msg) {\n    var format_dropdown = fig.format_dropdown;\n    var format = format_dropdown.options[format_dropdown.selectedIndex].value;\n    fig.ondownload(fig, format);\n}\n\n\nmpl.figure.prototype.handle_resize = function(fig, msg) {\n    var size = msg['size'];\n    if (size[0] != fig.canvas.width || size[1] != fig.canvas.height) {\n        fig._resize_canvas(size[0], size[1]);\n        fig.send_message(\"refresh\", {});\n    };\n}\n\nmpl.figure.prototype.handle_rubberband = function(fig, msg) {\n    var x0 = msg['x0'] / mpl.ratio;\n    var y0 = (fig.canvas.height - msg['y0']) / mpl.ratio;\n    var x1 = msg['x1'] / mpl.ratio;\n    var y1 = (fig.canvas.height - msg['y1']) / mpl.ratio;\n    x0 = Math.floor(x0) + 0.5;\n    y0 = Math.floor(y0) + 0.5;\n    x1 = Math.floor(x1) + 0.5;\n    y1 = Math.floor(y1) + 0.5;\n    var min_x = Math.min(x0, x1);\n    var min_y = Math.min(y0, y1);\n    var width = Math.abs(x1 - x0);\n    var height = Math.abs(y1 - y0);\n\n    fig.rubberband_context.clearRect(\n        0, 0, fig.canvas.width, fig.canvas.height);\n\n    fig.rubberband_context.strokeRect(min_x, min_y, width, height);\n}\n\nmpl.figure.prototype.handle_figure_label = function(fig, msg) {\n    // Updates the figure title.\n    fig.header.textContent = msg['label'];\n}\n\nmpl.figure.prototype.handle_cursor = function(fig, msg) {\n    var cursor = msg['cursor'];\n    switch(cursor)\n    {\n    case 0:\n        cursor = 'pointer';\n        break;\n    case 1:\n        cursor = 'default';\n        break;\n    case 2:\n        cursor = 'crosshair';\n        break;\n    case 3:\n        cursor = 'move';\n        break;\n    }\n    fig.rubberband_canvas.style.cursor = cursor;\n}\n\nmpl.figure.prototype.handle_message = function(fig, msg) {\n    fig.message.textContent = msg['message'];\n}\n\nmpl.figure.prototype.handle_draw = function(fig, msg) {\n    // Request the server to send over a new figure.\n    fig.send_draw_message();\n}\n\nmpl.figure.prototype.handle_image_mode = function(fig, msg) {\n    fig.image_mode = msg['mode'];\n}\n\nmpl.figure.prototype.updated_canvas_event = function() {\n    // Called whenever the canvas gets updated.\n    this.send_message(\"ack\", {});\n}\n\n// A function to construct a web socket function for onmessage handling.\n// Called in the figure constructor.\nmpl.figure.prototype._make_on_message_function = function(fig) {\n    return function socket_on_message(evt) {\n        if (evt.data instanceof Blob) {\n            /* FIXME: We get \"Resource interpreted as Image but\n             * transferred with MIME type text/plain:\" errors on\n             * Chrome.  But how to set the MIME type?  It doesn't seem\n             * to be part of the websocket stream */\n            evt.data.type = \"image/png\";\n\n            /* Free the memory for the previous frames */\n            if (fig.imageObj.src) {\n                (window.URL || window.webkitURL).revokeObjectURL(\n                    fig.imageObj.src);\n            }\n\n            fig.imageObj.src = (window.URL || window.webkitURL).createObjectURL(\n                evt.data);\n            fig.updated_canvas_event();\n            fig.waiting = false;\n            return;\n        }\n        else if (typeof evt.data === 'string' && evt.data.slice(0, 21) == \"data:image/png;base64\") {\n            fig.imageObj.src = evt.data;\n            fig.updated_canvas_event();\n            fig.waiting = false;\n            return;\n        }\n\n        var msg = JSON.parse(evt.data);\n        var msg_type = msg['type'];\n\n        // Call the  \"handle_{type}\" callback, which takes\n        // the figure and JSON message as its only arguments.\n        try {\n            var callback = fig[\"handle_\" + msg_type];\n        } catch (e) {\n            console.log(\"No handler for the '\" + msg_type + \"' message type: \", msg);\n            return;\n        }\n\n        if (callback) {\n            try {\n                // console.log(\"Handling '\" + msg_type + \"' message: \", msg);\n                callback(fig, msg);\n            } catch (e) {\n                console.log(\"Exception inside the 'handler_\" + msg_type + \"' callback:\", e, e.stack, msg);\n            }\n        }\n    };\n}\n\n// from http://stackoverflow.com/questions/1114465/getting-mouse-location-in-canvas\nmpl.findpos = function(e) {\n    //this section is from http://www.quirksmode.org/js/events_properties.html\n    var targ;\n    if (!e)\n        e = window.event;\n    if (e.target)\n        targ = e.target;\n    else if (e.srcElement)\n        targ = e.srcElement;\n    if (targ.nodeType == 3) // defeat Safari bug\n        targ = targ.parentNode;\n\n    // jQuery normalizes the pageX and pageY\n    // pageX,Y are the mouse positions relative to the document\n    // offset() returns the position of the element relative to the document\n    var x = e.pageX - $(targ).offset().left;\n    var y = e.pageY - $(targ).offset().top;\n\n    return {\"x\": x, \"y\": y};\n};\n\n/*\n * return a copy of an object with only non-object keys\n * we need this to avoid circular references\n * http://stackoverflow.com/a/24161582/3208463\n */\nfunction simpleKeys (original) {\n  return Object.keys(original).reduce(function (obj, key) {\n    if (typeof original[key] !== 'object')\n        obj[key] = original[key]\n    return obj;\n  }, {});\n}\n\nmpl.figure.prototype.mouse_event = function(event, name) {\n    var canvas_pos = mpl.findpos(event)\n\n    if (name === 'button_press')\n    {\n        this.canvas.focus();\n        this.canvas_div.focus();\n    }\n\n    var x = canvas_pos.x * mpl.ratio;\n    var y = canvas_pos.y * mpl.ratio;\n\n    this.send_message(name, {x: x, y: y, button: event.button,\n                             step: event.step,\n                             guiEvent: simpleKeys(event)});\n\n    /* This prevents the web browser from automatically changing to\n     * the text insertion cursor when the button is pressed.  We want\n     * to control all of the cursor setting manually through the\n     * 'cursor' event from matplotlib */\n    event.preventDefault();\n    return false;\n}\n\nmpl.figure.prototype._key_event_extra = function(event, name) {\n    // Handle any extra behaviour associated with a key event\n}\n\nmpl.figure.prototype.key_event = function(event, name) {\n\n    // Prevent repeat events\n    if (name == 'key_press')\n    {\n        if (event.which === this._key)\n            return;\n        else\n            this._key = event.which;\n    }\n    if (name == 'key_release')\n        this._key = null;\n\n    var value = '';\n    if (event.ctrlKey && event.which != 17)\n        value += \"ctrl+\";\n    if (event.altKey && event.which != 18)\n        value += \"alt+\";\n    if (event.shiftKey && event.which != 16)\n        value += \"shift+\";\n\n    value += 'k';\n    value += event.which.toString();\n\n    this._key_event_extra(event, name);\n\n    this.send_message(name, {key: value,\n                             guiEvent: simpleKeys(event)});\n    return false;\n}\n\nmpl.figure.prototype.toolbar_button_onclick = function(name) {\n    if (name == 'download') {\n        this.handle_save(this, null);\n    } else {\n        this.send_message(\"toolbar_button\", {name: name});\n    }\n};\n\nmpl.figure.prototype.toolbar_button_onmouseover = function(tooltip) {\n    this.message.textContent = tooltip;\n};\nmpl.toolbar_items = [[\"Home\", \"Reset original view\", \"fa fa-home icon-home\", \"home\"], [\"Back\", \"Back to  previous view\", \"fa fa-arrow-left icon-arrow-left\", \"back\"], [\"Forward\", \"Forward to next view\", \"fa fa-arrow-right icon-arrow-right\", \"forward\"], [\"\", \"\", \"\", \"\"], [\"Pan\", \"Pan axes with left mouse, zoom with right\", \"fa fa-arrows icon-move\", \"pan\"], [\"Zoom\", \"Zoom to rectangle\", \"fa fa-square-o icon-check-empty\", \"zoom\"], [\"\", \"\", \"\", \"\"], [\"Download\", \"Download plot\", \"fa fa-floppy-o icon-save\", \"download\"]];\n\nmpl.extensions = [\"eps\", \"jpeg\", \"pdf\", \"png\", \"ps\", \"raw\", \"svg\", \"tif\"];\n\nmpl.default_extension = \"png\";var comm_websocket_adapter = function(comm) {\n    // Create a \"websocket\"-like object which calls the given IPython comm\n    // object with the appropriate methods. Currently this is a non binary\n    // socket, so there is still some room for performance tuning.\n    var ws = {};\n\n    ws.close = function() {\n        comm.close()\n    };\n    ws.send = function(m) {\n        //console.log('sending', m);\n        comm.send(m);\n    };\n    // Register the callback with on_msg.\n    comm.on_msg(function(msg) {\n        //console.log('receiving', msg['content']['data'], msg);\n        // Pass the mpl event to the overriden (by mpl) onmessage function.\n        ws.onmessage(msg['content']['data'])\n    });\n    return ws;\n}\n\nmpl.mpl_figure_comm = function(comm, msg) {\n    // This is the function which gets called when the mpl process\n    // starts-up an IPython Comm through the \"matplotlib\" channel.\n\n    var id = msg.content.data.id;\n    // Get hold of the div created by the display call when the Comm\n    // socket was opened in Python.\n    var element = $(\"#\" + id);\n    var ws_proxy = comm_websocket_adapter(comm)\n\n    function ondownload(figure, format) {\n        window.open(figure.imageObj.src);\n    }\n\n    var fig = new mpl.figure(id, ws_proxy,\n                           ondownload,\n                           element.get(0));\n\n    // Call onopen now - mpl needs it, as it is assuming we've passed it a real\n    // web socket which is closed, not our websocket->open comm proxy.\n    ws_proxy.onopen();\n\n    fig.parent_element = element.get(0);\n    fig.cell_info = mpl.find_output_cell(\"<div id='\" + id + \"'></div>\");\n    if (!fig.cell_info) {\n        console.error(\"Failed to find cell for figure\", id, fig);\n        return;\n    }\n\n    var output_index = fig.cell_info[2]\n    var cell = fig.cell_info[0];\n\n};\n\nmpl.figure.prototype.handle_close = function(fig, msg) {\n    var width = fig.canvas.width/mpl.ratio\n    fig.root.unbind('remove')\n\n    // Update the output cell to use the data from the current canvas.\n    fig.push_to_output();\n    var dataURL = fig.canvas.toDataURL();\n    // Re-enable the keyboard manager in IPython - without this line, in FF,\n    // the notebook keyboard shortcuts fail.\n    IPython.keyboard_manager.enable()\n    $(fig.parent_element).html('<img src=\"' + dataURL + '\" width=\"' + width + '\">');\n    fig.close_ws(fig, msg);\n}\n\nmpl.figure.prototype.close_ws = function(fig, msg){\n    fig.send_message('closing', msg);\n    // fig.ws.close()\n}\n\nmpl.figure.prototype.push_to_output = function(remove_interactive) {\n    // Turn the data on the canvas into data in the output cell.\n    var width = this.canvas.width/mpl.ratio\n    var dataURL = this.canvas.toDataURL();\n    this.cell_info[1]['text/html'] = '<img src=\"' + dataURL + '\" width=\"' + width + '\">';\n}\n\nmpl.figure.prototype.updated_canvas_event = function() {\n    // Tell IPython that the notebook contents must change.\n    IPython.notebook.set_dirty(true);\n    this.send_message(\"ack\", {});\n    var fig = this;\n    // Wait a second, then push the new image to the DOM so\n    // that it is saved nicely (might be nice to debounce this).\n    setTimeout(function () { fig.push_to_output() }, 1000);\n}\n\nmpl.figure.prototype._init_toolbar = function() {\n    var fig = this;\n\n    var nav_element = $('<div/>')\n    nav_element.attr('style', 'width: 100%');\n    this.root.append(nav_element);\n\n    // Define a callback function for later on.\n    function toolbar_event(event) {\n        return fig.toolbar_button_onclick(event['data']);\n    }\n    function toolbar_mouse_event(event) {\n        return fig.toolbar_button_onmouseover(event['data']);\n    }\n\n    for(var toolbar_ind in mpl.toolbar_items){\n        var name = mpl.toolbar_items[toolbar_ind][0];\n        var tooltip = mpl.toolbar_items[toolbar_ind][1];\n        var image = mpl.toolbar_items[toolbar_ind][2];\n        var method_name = mpl.toolbar_items[toolbar_ind][3];\n\n        if (!name) { continue; };\n\n        var button = $('<button class=\"btn btn-default\" href=\"#\" title=\"' + name + '\"><i class=\"fa ' + image + ' fa-lg\"></i></button>');\n        button.click(method_name, toolbar_event);\n        button.mouseover(tooltip, toolbar_mouse_event);\n        nav_element.append(button);\n    }\n\n    // Add the status bar.\n    var status_bar = $('<span class=\"mpl-message\" style=\"text-align:right; float: right;\"/>');\n    nav_element.append(status_bar);\n    this.message = status_bar[0];\n\n    // Add the close button to the window.\n    var buttongrp = $('<div class=\"btn-group inline pull-right\"></div>');\n    var button = $('<button class=\"btn btn-mini btn-primary\" href=\"#\" title=\"Stop Interaction\"><i class=\"fa fa-power-off icon-remove icon-large\"></i></button>');\n    button.click(function (evt) { fig.handle_close(fig, {}); } );\n    button.mouseover('Stop Interaction', toolbar_mouse_event);\n    buttongrp.append(button);\n    var titlebar = this.root.find($('.ui-dialog-titlebar'));\n    titlebar.prepend(buttongrp);\n}\n\nmpl.figure.prototype._root_extra_style = function(el){\n    var fig = this\n    el.on(\"remove\", function(){\n\tfig.close_ws(fig, {});\n    });\n}\n\nmpl.figure.prototype._canvas_extra_style = function(el){\n    // this is important to make the div 'focusable\n    el.attr('tabindex', 0)\n    // reach out to IPython and tell the keyboard manager to turn it's self\n    // off when our div gets focus\n\n    // location in version 3\n    if (IPython.notebook.keyboard_manager) {\n        IPython.notebook.keyboard_manager.register_events(el);\n    }\n    else {\n        // location in version 2\n        IPython.keyboard_manager.register_events(el);\n    }\n\n}\n\nmpl.figure.prototype._key_event_extra = function(event, name) {\n    var manager = IPython.notebook.keyboard_manager;\n    if (!manager)\n        manager = IPython.keyboard_manager;\n\n    // Check for shift+enter\n    if (event.shiftKey && event.which == 13) {\n        this.canvas_div.blur();\n        // select the cell after this one\n        var index = IPython.notebook.find_cell_index(this.cell_info[0]);\n        IPython.notebook.select(index + 1);\n    }\n}\n\nmpl.figure.prototype.handle_save = function(fig, msg) {\n    fig.ondownload(fig, null);\n}\n\n\nmpl.find_output_cell = function(html_output) {\n    // Return the cell and output element which can be found *uniquely* in the notebook.\n    // Note - this is a bit hacky, but it is done because the \"notebook_saving.Notebook\"\n    // IPython event is triggered only after the cells have been serialised, which for\n    // our purposes (turning an active figure into a static one), is too late.\n    var cells = IPython.notebook.get_cells();\n    var ncells = cells.length;\n    for (var i=0; i<ncells; i++) {\n        var cell = cells[i];\n        if (cell.cell_type === 'code'){\n            for (var j=0; j<cell.output_area.outputs.length; j++) {\n                var data = cell.output_area.outputs[j];\n                if (data.data) {\n                    // IPython >= 3 moved mimebundle to data attribute of output\n                    data = data.data;\n                }\n                if (data['text/html'] == html_output) {\n                    return [cell, data, j];\n                }\n            }\n        }\n    }\n}\n\n// Register the function which deals with the matplotlib target/channel.\n// The kernel may be null if the page has been refreshed.\nif (IPython.notebook.kernel != null) {\n    IPython.notebook.kernel.comm_manager.register_target('matplotlib', mpl.mpl_figure_comm);\n}\n",
      "text/plain": [
       "<IPython.core.display.Javascript object>"
      ]
     },
     "metadata": {},
     "output_type": "display_data"
    },
    {
     "data": {
      "text/html": [
       "<img src=\"data:image/png;base64,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\" width=\"432\">"
      ],
      "text/plain": [
       "<IPython.core.display.HTML object>"
      ]
     },
     "metadata": {},
     "output_type": "display_data"
    }
   ],
   "source": [
    "accuracy_plot() "
   ]
  },
  {
   "cell_type": "code",
   "execution_count": null,
   "metadata": {
    "collapsed": true
   },
   "outputs": [],
   "source": []
  }
 ],
 "metadata": {
  "coursera": {
   "course_slug": "python-machine-learning",
   "graded_item_id": "f9SY5",
   "launcher_item_id": "oxndk",
   "part_id": "mh1Vo"
  },
  "kernelspec": {
   "display_name": "Python 3.9.6 64-bit",
   "language": "python",
   "name": "python3"
  },
  "language_info": {
   "codemirror_mode": {
    "name": "ipython",
    "version": 3
   },
   "file_extension": ".py",
   "mimetype": "text/x-python",
   "name": "python",
   "nbconvert_exporter": "python",
   "pygments_lexer": "ipython3",
   "version": "3.9.6"
  },
  "vscode": {
   "interpreter": {
    "hash": "55923a6ed19f62c923f4f9446379b87364bb44c28ea18797870eef05a25fc661"
   }
  }
 },
 "nbformat": 4,
 "nbformat_minor": 0
}
